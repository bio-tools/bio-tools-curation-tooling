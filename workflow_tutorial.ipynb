{
 "cells": [
  {
   "cell_type": "markdown",
   "metadata": {},
   "source": [
    "## Run with pub2tools output"
   ]
  },
  {
   "cell_type": "markdown",
   "metadata": {},
   "source": [
    "1. Define run settings:\n",
    "    * _to_curate_ (int || 'all'): number of published tools to be added to the database."
   ]
  },
  {
   "cell_type": "code",
   "execution_count": null,
   "metadata": {},
   "outputs": [],
   "source": [
    "to_curate = 100"
   ]
  },
  {
   "cell_type": "markdown",
   "metadata": {},
   "source": [
    "2. Define file paths:\n",
    "\n",
    "    * _json_file_: path for json file with output from Pub2Tools.\n",
    "    * _pub2tools_log_: output log file from Pub2tools\n",
    "    * _preprints_file_ : path to json file with all of the preprints identified until now"
   ]
  },
  {
   "cell_type": "code",
   "execution_count": null,
   "metadata": {},
   "outputs": [],
   "source": [
    "json_file = \"to_biotools_sep22.json\"\n",
    "pub2tools_log = \"pub2tools.log\"\n",
    "preprints_file = \"preprints.json\""
   ]
  },
  {
   "cell_type": "markdown",
   "metadata": {},
   "source": [
    "3. Define username and password."
   ]
  },
  {
   "cell_type": "code",
   "execution_count": null,
   "metadata": {},
   "outputs": [],
   "source": [
    "username = ''\n",
    "password = ''"
   ]
  },
  {
   "cell_type": "markdown",
   "metadata": {},
   "source": [
    "4. Authentication."
   ]
  },
  {
   "cell_type": "code",
   "execution_count": null,
   "metadata": {},
   "outputs": [],
   "source": [
    "from biotools_dev import login_prod\n",
    "\n",
    "token = login_prod(username, password)"
   ]
  },
  {
   "cell_type": "markdown",
   "metadata": {},
   "source": [
    "5. Read pub2tools output and get tools with high confidence score from json file."
   ]
  },
  {
   "cell_type": "code",
   "execution_count": null,
   "metadata": {},
   "outputs": [],
   "source": [
    "import json\n",
    "from tool_processing import process_tools\n",
    "\n",
    "with open(json_file,encoding=\"utf8\") as jf:\n",
    "    data = json.load(jf)\n",
    "    tools = data['list']\n",
    "\n",
    "processed_tools = process_tools(tools)"
   ]
  },
  {
   "cell_type": "markdown",
   "metadata": {},
   "source": [
    "**Tool validation**\n",
    "\n",
    "6. Validate tools and separate them into valid and problem tools."
   ]
  },
  {
   "cell_type": "code",
   "execution_count": null,
   "metadata": {},
   "outputs": [],
   "source": [
    "from tool_validation import validate_tools\n",
    "valid_tools, problem_tools = validate_tools(processed_tools, token)"
   ]
  },
  {
   "cell_type": "markdown",
   "metadata": {},
   "source": [
    "**Identify preprints**\n",
    "\n",
    "7. Check if there are any newly published tools in _preprints_file_, and return only those with updated _publication_link_ and _is_preprint_ flag. Function will delete published preprints from _preprints_file_."
   ]
  },
  {
   "cell_type": "code",
   "execution_count": null,
   "metadata": {},
   "outputs": [],
   "source": [
    "from preprints import identify_preprints\n",
    "pubs_prp = identify_preprints(rerun = True, tools = None, json_prp= preprints_file)"
   ]
  },
  {
   "cell_type": "markdown",
   "metadata": {},
   "source": [
    "8. Repeat identification for validated tools. Return only publications. Function will update _preprints_file_ with identified preprints."
   ]
  },
  {
   "cell_type": "code",
   "execution_count": null,
   "metadata": {},
   "outputs": [],
   "source": [
    "pubs = identify_preprints(rerun = False, tools = valid_tools, json_prp= preprints_file)"
   ]
  },
  {
   "cell_type": "markdown",
   "metadata": {},
   "source": [
    "**Create .csv file**\n",
    "\n",
    "9. Generate csv file from _to_curate_ first _pubs_ and all _pubs_prp_\n",
    "\n",
    "    Returns:\n",
    "    \n",
    "    * _tools_to_add_: tools to add to database \n",
    "    * _tools_left_: tools not in _tools_to_add."
   ]
  },
  {
   "cell_type": "code",
   "execution_count": null,
   "metadata": {},
   "outputs": [],
   "source": [
    "from utils.utils import check_date\n",
    "from utils.csv_utils import generate_csv\n",
    "\n",
    "file_date = check_date(pub2tools_log)\n",
    "tools_to_add, tools_left = generate_csv(pubs, pubs_prp, to_curate, file_date)\n",
    "\n"
   ]
  },
  {
   "cell_type": "markdown",
   "metadata": {},
   "source": [
    "**Create json files**\n",
    "\n",
    "\n",
    "9. Generate json files with tools that will not be curated"
   ]
  },
  {
   "cell_type": "code",
   "execution_count": null,
   "metadata": {},
   "outputs": [],
   "source": [
    "from utils.json_utils import generate_json\n",
    "\n",
    "generate_json(tools_left, file_date)"
   ]
  },
  {
   "cell_type": "markdown",
   "metadata": {},
   "source": [
    "10. **Add tools to curate to dev**"
   ]
  },
  {
   "cell_type": "code",
   "execution_count": null,
   "metadata": {},
   "outputs": [],
   "source": [
    "from biotools_dev import add_tools\n",
    "\n",
    "add_tools(tools_to_add, token, WRITE_TO_DB=True)\n"
   ]
  }
 ],
 "metadata": {
  "kernelspec": {
   "display_name": "Python 3",
   "language": "python",
   "name": "python3"
  },
  "language_info": {
   "codemirror_mode": {
    "name": "ipython",
    "version": 3
   },
   "file_extension": ".py",
   "mimetype": "text/x-python",
   "name": "python",
   "nbconvert_exporter": "python",
   "pygments_lexer": "ipython3",
   "version": "3.12.2"
  }
 },
 "nbformat": 4,
 "nbformat_minor": 2
}
