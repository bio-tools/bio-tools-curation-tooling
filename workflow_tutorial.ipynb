{
 "cells": [
  {
   "cell_type": "markdown",
   "metadata": {},
   "source": [
    "## Run with pub2tools output"
   ]
  },
  {
   "cell_type": "markdown",
   "metadata": {},
   "source": [
    "1. Define run settings:\n",
    "\n",
    "    * _include_preprints_ (bool): set to False if preprints should not be included in the tools to add to the database.\n",
    "    * _to_curate_ (int || 'all'): number of published tools to be added to the database."
   ]
  },
  {
   "cell_type": "code",
   "execution_count": null,
   "metadata": {},
   "outputs": [],
   "source": [
    "include_preprints = False\n",
    "to_curate = 100"
   ]
  },
  {
   "cell_type": "markdown",
   "metadata": {},
   "source": [
    "2. Define file paths:\n",
    "\n",
    "    * _json_file_: path for json file with output from Pub2Tools.\n",
    "    * _pub2tools_log_:"
   ]
  },
  {
   "cell_type": "code",
   "execution_count": null,
   "metadata": {},
   "outputs": [],
   "source": [
    "json_file = \"\"\n",
    "pub2tools_log = \"\""
   ]
  },
  {
   "cell_type": "markdown",
   "metadata": {},
   "source": [
    "3. Define username and password."
   ]
  },
  {
   "cell_type": "code",
   "execution_count": null,
   "metadata": {},
   "outputs": [],
   "source": [
    "username = ''\n",
    "password = ''"
   ]
  },
  {
   "cell_type": "markdown",
   "metadata": {},
   "source": [
    "4. Authentication."
   ]
  },
  {
   "cell_type": "code",
   "execution_count": null,
   "metadata": {},
   "outputs": [],
   "source": [
    "from biotools_dev import login_prod\n",
    "\n",
    "token = login_prod(username, password)"
   ]
  },
  {
   "cell_type": "markdown",
   "metadata": {},
   "source": [
    "5. Read pub2tools output and get tools with high confidence score from json file."
   ]
  },
  {
   "cell_type": "code",
   "execution_count": null,
   "metadata": {},
   "outputs": [],
   "source": [
    "import json\n",
    "from tool_processing import process_tools\n",
    "\n",
    "with open(json_file) as jf:\n",
    "    data = json.load(jf)\n",
    "    tools = data['list']\n",
    "\n",
    "processed_tools = process_tools(tools)"
   ]
  },
  {
   "cell_type": "markdown",
   "metadata": {},
   "source": [
    "**Tool validation**\n",
    "\n",
    "6. Validate tools and separate them into valid and problem tools."
   ]
  },
  {
   "cell_type": "code",
   "execution_count": null,
   "metadata": {},
   "outputs": [],
   "source": [
    "from tool_validation import validate_tools\n",
    "\n",
    "valid_tools, problem_tools = validate_tools(processed_tools, token)"
   ]
  },
  {
   "cell_type": "markdown",
   "metadata": {},
   "source": [
    "**Identify preprints**\n",
    "\n",
    "7. Identify preprints and get back the same list of tools including _is_preprint_ flag and _publication_link_ for each tool."
   ]
  },
  {
   "cell_type": "code",
   "execution_count": null,
   "metadata": {},
   "outputs": [],
   "source": [
    "from preprints import identify_preprints\n",
    "\n",
    "updated_tools = identify_preprints(rerun = False, tools = valid_tools)"
   ]
  },
  {
   "cell_type": "markdown",
   "metadata": {},
   "source": [
    "**Create .csv file**\n",
    "\n",
    "8. Generate csv file from _to_curate_ first publications and all preprints if _include_preprints_ = True.\n",
    "\n",
    "    Returns:\n",
    "    \n",
    "    * _tools_to_add_: tools to add to database (including preprints if _include_preprints_ = True).\n",
    "    * _tools_left_: tools not in _tools_to_add."
   ]
  },
  {
   "cell_type": "code",
   "execution_count": null,
   "metadata": {},
   "outputs": [],
   "source": [
    "from utils.utils import check_date\n",
    "from utils.csv_utils import generate_csv\n",
    "\n",
    "file_date = check_date(pub2tools_log)\n",
    "tools_to_add, tools_left = generate_csv(updated_tools, to_curate, file_date, include_preprints)\n"
   ]
  },
  {
   "cell_type": "markdown",
   "metadata": {},
   "source": [
    "**Create json files**\n",
    "\n",
    "9. Generate json files with tools that will not be curated:\n",
    "\n",
    "    If _separate_preprints_ = True, 2 json files will be generated with:\n",
    "    * Preprints (can be used as input for identify_preprints later as rerun = True)\n",
    "    * Publications\n",
    "\n",
    "    If _separate_preprints_ = False, only 1 file will be generate with the publications and preprints in the same file."
   ]
  },
  {
   "cell_type": "code",
   "execution_count": null,
   "metadata": {},
   "outputs": [],
   "source": [
    "from utils.json_utils import generate_json\n",
    "\n",
    "generate_json(tools_left, file_date, separate_preprints=True)"
   ]
  },
  {
   "cell_type": "markdown",
   "metadata": {},
   "source": [
    "10. **Add tools to curate to dev**"
   ]
  },
  {
   "cell_type": "code",
   "execution_count": null,
   "metadata": {},
   "outputs": [],
   "source": [
    "from biotools_dev import add_tools\n",
    "\n",
    "add_tools(tools_to_add, token, WRITE_TO_DB=True)\n"
   ]
  },
  {
   "cell_type": "markdown",
   "metadata": {},
   "source": [
    "## Rerun\n",
    "\n",
    "Workflow to rerun preprints to check for new publications.\n",
    "\n",
    "Newly published tools in _json_preprints_ will be moved from this file to _json_publications_."
   ]
  },
  {
   "cell_type": "markdown",
   "metadata": {},
   "source": [
    "1. Define file paths for preprints and publications files:"
   ]
  },
  {
   "cell_type": "code",
   "execution_count": null,
   "metadata": {},
   "outputs": [],
   "source": [
    "json_preprints = \"\"\n",
    "json_publications = \"\""
   ]
  },
  {
   "cell_type": "markdown",
   "metadata": {},
   "source": [
    "2. Run identify_preprints"
   ]
  },
  {
   "cell_type": "code",
   "execution_count": null,
   "metadata": {},
   "outputs": [],
   "source": [
    "from preprints import identify_preprints\n",
    "\n",
    "updated_tools = identify_preprints(rerun = True, json_prp = json_preprints, json_pub = json_publications)"
   ]
  },
  {
   "cell_type": "markdown",
   "metadata": {},
   "source": [
    "## Run Pub2Tools output and rerun existing preprints"
   ]
  }
 ],
 "metadata": {
  "kernelspec": {
   "display_name": "Python 3",
   "language": "python",
   "name": "python3"
  },
  "language_info": {
   "codemirror_mode": {
    "name": "ipython",
    "version": 3
   },
   "file_extension": ".py",
   "mimetype": "text/x-python",
   "name": "python",
   "nbconvert_exporter": "python",
   "pygments_lexer": "ipython3",
   "version": "3.11.5"
  }
 },
 "nbformat": 4,
 "nbformat_minor": 2
}
