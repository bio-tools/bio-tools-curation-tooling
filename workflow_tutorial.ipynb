{
 "cells": [
  {
   "cell_type": "code",
   "execution_count": 10,
   "metadata": {},
   "outputs": [],
   "source": [
    "from preprints import identify_preprints\n",
    "from settings import http_settings"
   ]
  },
  {
   "cell_type": "markdown",
   "metadata": {},
   "source": [
    "## Month 1st run"
   ]
  },
  {
   "cell_type": "markdown",
   "metadata": {},
   "source": [
    "Define WRITE_TO_DB and num_to_curate:\n",
    "\n",
    "* WRITE_TO_DB - flag to write tools to the database (bool)\n",
    "* num_to_curate - number of high_tools to write to csv file to be manually curated (int or str) ('all')"
   ]
  },
  {
   "cell_type": "code",
   "execution_count": null,
   "metadata": {},
   "outputs": [],
   "source": [
    "WRITE_TO_DB = False\n",
    "num_to_curate = 100"
   ]
  },
  {
   "cell_type": "markdown",
   "metadata": {},
   "source": [
    "## Define file paths"
   ]
  },
  {
   "cell_type": "code",
   "execution_count": null,
   "metadata": {},
   "outputs": [],
   "source": [
    "json_preprints = \"\"\n",
    "json_publications = \"\"\n",
    "json_file = \"\"\n",
    "pub2tools_log = \"\""
   ]
  },
  {
   "cell_type": "markdown",
   "metadata": {},
   "source": [
    "## Read pub2tools output\n",
    "\n",
    "Get tools with high confidence score"
   ]
  },
  {
   "cell_type": "code",
   "execution_count": null,
   "metadata": {},
   "outputs": [],
   "source": [
    "tools = process_tools(json_file)\n",
    "token = login_prod(http_settings)\n"
   ]
  },
  {
   "cell_type": "code",
   "execution_count": null,
   "metadata": {},
   "outputs": [],
   "source": [
    "#tools_v = validate_tools(tools, token, http_settings)   # STEP 3. VALIDATE TOOLS FROM PUB2TOOLS OUTPUT"
   ]
  },
  {
   "cell_type": "markdown",
   "metadata": {},
   "source": [
    "## Separate publications (high and low) and preprints"
   ]
  },
  {
   "cell_type": "markdown",
   "metadata": {},
   "source": [
    "Identify preprints from validated tools\n",
    "* rerun (bool):\n",
    "\n",
    "This function can be used for the first time on to_biotools.json output from Pub2tools\n",
    "as well as it can be rerun on the preprints json in the future to check for new publications\n",
    "if there are new publications in low_tools_prp_date.json file, they will be removed from this file\n",
    "and moved to the publications file"
   ]
  },
  {
   "cell_type": "code",
   "execution_count": null,
   "metadata": {},
   "outputs": [],
   "source": [
    "tools_prp = identify_preprints(rerun = False, tools = tools)"
   ]
  },
  {
   "cell_type": "markdown",
   "metadata": {},
   "source": [
    "Generate 2 CSVs from _num_to_curate_ first publications\n",
    "\n",
    "* tools_to_add: tools to add to datase\n",
    "* tools_left: preprints + publications not in the first _num_to_curate_"
   ]
  },
  {
   "cell_type": "code",
   "execution_count": null,
   "metadata": {},
   "outputs": [],
   "source": [
    "tools_to_add, tools_left = generate_csv_pub(tools_prp, num_to_curate)\n"
   ]
  },
  {
   "cell_type": "markdown",
   "metadata": {},
   "source": [
    "## Create json files\n",
    "\n",
    "Generate 2 json files with tools that will not be curated:\n",
    "\n",
    "* Preprints (can be used as input for identify_preprints later as rerun = True)\n",
    "* Publications"
   ]
  },
  {
   "cell_type": "code",
   "execution_count": null,
   "metadata": {},
   "outputs": [],
   "source": [
    "generate_json(tools_left)"
   ]
  },
  {
   "cell_type": "markdown",
   "metadata": {},
   "source": [
    "## Add tools to curate to dev"
   ]
  },
  {
   "cell_type": "code",
   "execution_count": null,
   "metadata": {},
   "outputs": [],
   "source": [
    "add_tools(tools_to_add, token, http_settings, WRITE_TO_DB)\n"
   ]
  }
 ],
 "metadata": {
  "kernelspec": {
   "display_name": "Python 3",
   "language": "python",
   "name": "python3"
  },
  "language_info": {
   "codemirror_mode": {
    "name": "ipython",
    "version": 3
   },
   "file_extension": ".py",
   "mimetype": "text/x-python",
   "name": "python",
   "nbconvert_exporter": "python",
   "pygments_lexer": "ipython3",
   "version": "3.11.5"
  }
 },
 "nbformat": 4,
 "nbformat_minor": 2
}
