{
 "cells": [
  {
   "cell_type": "markdown",
   "metadata": {},
   "source": [
    "## Run with pub2tools output"
   ]
  },
  {
   "cell_type": "markdown",
   "metadata": {},
   "source": [
    "1. Define run settings:\n",
    "    * _to_curate_ (int || 'all'): number of published tools to be added to the database."
   ]
  },
  {
   "cell_type": "code",
   "execution_count": 1,
   "metadata": {},
   "outputs": [],
   "source": [
    "to_curate = 100"
   ]
  },
  {
   "cell_type": "markdown",
   "metadata": {},
   "source": [
    "2. Define file paths:\n",
    "\n",
    "    * _json_file_: path for json file with output from Pub2Tools.\n",
    "    * _pub2tools_log_: output log file from Pub2tools\n",
    "    * _preprints_file_ : path to json file with all of the preprints identified until now"
   ]
  },
  {
   "cell_type": "code",
   "execution_count": 16,
   "metadata": {},
   "outputs": [],
   "source": [
    "json_file = \"C:/Users/Lenovo/bio-tools/bio-tools-curation-tooling/data/to_biotools_sep22.json\"\n",
    "pub2tools_log = \"C:/Users/Lenovo/bio-tools/bio-tools-curation-tooling/data/pub2tools.log\"\n",
    "preprints_file = \"C:/Users/Lenovo/bio-tools/bio-tools-curation-tooling/data/preprints.json\""
   ]
  },
  {
   "cell_type": "markdown",
   "metadata": {},
   "source": [
    "3. Define username and password."
   ]
  },
  {
   "cell_type": "code",
   "execution_count": 3,
   "metadata": {},
   "outputs": [],
   "source": [
    "username = 'curation'\n",
    "password = 'D9v7#5KV'"
   ]
  },
  {
   "cell_type": "markdown",
   "metadata": {},
   "source": [
    "4. Authentication."
   ]
  },
  {
   "cell_type": "code",
   "execution_count": 4,
   "metadata": {},
   "outputs": [],
   "source": [
    "from biotools_dev import login_prod\n",
    "\n",
    "token = login_prod(username, password)"
   ]
  },
  {
   "cell_type": "markdown",
   "metadata": {},
   "source": [
    "5. Read pub2tools output and get tools with high confidence score from json file."
   ]
  },
  {
   "cell_type": "code",
   "execution_count": 17,
   "metadata": {},
   "outputs": [],
   "source": [
    "import json\n",
    "from tool_processing import process_tools\n",
    "\n",
    "with open(json_file,encoding=\"utf8\") as jf:\n",
    "    data = json.load(jf)\n",
    "    tools = data['list']\n",
    "\n",
    "processed_tools = process_tools(tools)"
   ]
  },
  {
   "cell_type": "markdown",
   "metadata": {},
   "source": [
    "**Tool validation**\n",
    "\n",
    "6. Validate tools and separate them into valid and problem tools."
   ]
  },
  {
   "cell_type": "code",
   "execution_count": 18,
   "metadata": {},
   "outputs": [
    {
     "name": "stdout",
     "output_type": "stream",
     "text": [
      "Tool with name:ORFanID has the errors: {\"biotoolsID\":[\"A resource with this ID already exists. bio.tools IDs need to be unique\"]}\n",
      "Tool with name:road has the errors: {\"biotoolsID\":[\"A resource with this ID already exists. bio.tools IDs need to be unique\"]}\n",
      "Tool with name:evSeq has the errors: {\"function\":[{\"operation\":[{\"general_errors\":[\"Invalid URI: http://edamontology.org/operation_3923.\"]},{},{},{},{}]}]}\n",
      "Tool with name:CriSNPr has the errors: {\"function\":[{\"operation\":[{},{},{},{\"general_errors\":[\"Invalid URI: http://edamontology.org/operation_3923.\"]}]}]}\n",
      "Tool with name:OptiFit has the errors: {\"function\":[{\"operation\":[{\"general_errors\":[\"Invalid URI: http://edamontology.org/operation_3923.\"]},{},{},{},{}]}]}\n",
      "Tool with name:DEGAS has the errors: {\"biotoolsID\":[\"A resource with this ID already exists. bio.tools IDs need to be unique\"]}\n",
      "Tool with name:PREGO has the errors: <!doctype html>\n",
      "<html>\n",
      "<head>\n",
      "    <meta charset=\"utf-8\">\n",
      "    <meta name=\"referrer\" content=\"never\">\n",
      "    <meta name=\"viewport\" content=\"width=device-width, initial-scale=1\">\n",
      "    <title>SDU | Request Blocked | 403</title>\n",
      "    <meta http-equiv=\"refresh\" content=\"90\"/>\n",
      "    <link rel=\"icon\" type=\"image/png\" sizes=\"16x16\" href=\" data:image/png;base64,iVBORw0KGgoAAAANSUhEUgAAAEAAAABACAAAAACPAi4CAAAAIGNIUk0AAHomAACAhAAA+gAAAIDoAAB1MAAA6mAAADqYAAAXcJy6UTwAAAAHdElNRQfnAxEMLwKdmGuVAAAAAmJLR0QA/4ePzL8AAAIfSURBVBgZ7cFPSFNxAAfw79zTllug9I+0YJIVhFIJZkHUjIr+aUkkO0S+qIOgEySzv2YFkWRg5CGIKKESMrwUddIOVtClWOrBorpI/5yZlWgO17f0vel7bzP2+x067fNBXNx/taTUp0BaTv0btiVDkrO8k2SXC3JctQP8a3gZpNjUPk6ohJS0dmq6FMhYH6AuHzKKg9Q1Q8aOIHXf5kNC1hDDDkJCop9hzZBRwbCOZEhI/EjdQydk7KRm9KgdUho5LtiUAd2CtVs9mXbErJ0cbquYA82MqtccN/TogBOx8alrHAhb2M1J/SdmQpSji0bvPIiJLS1v+35VLSlcXUOz0HEb/s22vPSW/xen12TH9FzelgDJoY5rtWXeIlWtvPKFEW7bEF3CttYRah5nQXeBkRoQTUr1e/L3k5Obs9edCvDHCmgWjzHSIURIOTNI9takYcK8F3xpg6aekUayYaaUD5BvVQVh7lFugCbpPiP5FRjldpJffQoM7vEidMr5IK0+bYHB4THyzmyEKUWNLVcf8Kn30s3Tboxz1/VQF/rw7MaRgnSY7OLgHkzK8HPKyD5oUvMKdxd4chYpiKY6E5Nm9dAotBGCztGsJwFC7H202AQhq2hVByF7aXUXQopp1Qoh+bS6DiFzaXUMYrpp4YGYKpp9ViAmtZ8mZyFKpVGvC8Iuc8rPXEgo6ydflTR8J59nQ4pjpRtA0tJ0xMXFxeQPk26I6uAPiZwAAAAldEVYdGRhdGU6Y3JlYXRlADIwMjMtMDMtMTdUMTI6NDc6MDErMDA6MDDlzElfAAAAJXRFWHRkYXRlOm1vZGlmeQAyMDIzLTAzLTE3VDEyOjQ3OjAxKzAwOjAwlJHx4wAAACh0RVh0ZGF0ZTp0aW1lc3RhbXAAMjAyMy0wMy0xN1QxMjo0NzowMiswMDowMPJsyqEAAAAASUVORK5CYII=\" />\n",
      "</head>\n",
      "</head>\n",
      "<style>\n",
      "    body {\n",
      "        background-color: #ffffffa0;\n",
      "    }\n",
      "    .page img {\n",
      "        width:calc(25% + 1vw);\n",
      "        height: auto;\n",
      "        padding: 3%;\n",
      "    }\n",
      "    .page h1 {\n",
      "        text-align: center;\n",
      "        display: flex;\n",
      "        justify-content: center;\n",
      "        align-items: center;\n",
      "        font-size:calc(50% + 4vw);\n",
      "        font-weight: 100;\n",
      "        color: #000000;\n",
      "        font-family: \"HelveticaNeue-Medium\", \"Helvetica Neue Medium\", \"Helvetica Neue\", Helvetica, Arial, sans-serif;\n",
      "    }\n",
      "    .page h2 {\n",
      "        padding-top: 10px;\n",
      "        text-align: center;\n",
      "        display: flex;\n",
      "        justify-content: center;\n",
      "        align-items: center;\n",
      "        font-size:calc(50% + 1.8vw);\n",
      "        font-weight: 100;\n",
      "        color: #0000004f;\n",
      "        font-family: \"HelveticaNeue-Medium\", \"Helvetica Neue Medium\", \"Helvetica Neue\", Helvetica, Arial, sans-serif;\n",
      "    }\n",
      "    .page h3 {\n",
      "        padding-top: 10px;\n",
      "        text-align: center;\n",
      "        display: flex;\n",
      "        justify-content: center;\n",
      "        align-items: center;\n",
      "        font-size:calc(20% + 1.8vw);\n",
      "        font-weight: 100;\n",
      "        color: #000000;\n",
      "        font-family: \"HelveticaNeue-Medium\", \"Helvetica Neue Medium\", \"Helvetica Neue\", Helvetica, Arial, sans-serif;\n",
      "    }\n",
      "    .page a {\n",
      "        text-decoration: none;\n",
      "        padding-top: 5px;\n",
      "        text-align: center;\n",
      "        display: flex;\n",
      "        justify-content: center;\n",
      "        align-items: center;\n",
      "        font-size:calc(50% + 1vw);\n",
      "        font-weight: 100;\n",
      "        color: #000000;\n",
      "        font-family: \"HelveticaNeue-Medium\", \"Helvetica Neue Medium\", \"Helvetica Neue\", Helvetica, Arial, sans-serif;\n",
      "    }\n",
      "    .page a:hover {\n",
      "        color: #0000009a;\n",
      "    }\n",
      "</style>\n",
      "<body>\n",
      "    <div class=\"page\">\n",
      "        <img src=\"data:image/png;base64,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\">\n",
      "        <h1>403 | Request Blocked</h1>\n",
      "\n",
      "        <p id=\"HOST\"></p>\n",
      "        <script>\n",
      "            var blink_speed = 800; // every 1000 == 1 second, adjust to suit\n",
      "            var t = setInterval(function () {\n",
      "                var ele = document.getElementById('myBlinkingDiv');\n",
      "                ele.style.visibility = (ele.style.visibility == 'hidden' ? '' : 'hidden');\n",
      "            }, blink_speed);\n",
      "            document.getElementById(\"HOST\").innerHTML = \"<h2>\" + window.location + \"</h2>\";\n",
      "        </script>\n",
      "        <h3> Support ID: <b>15893804995842699946</b></h3>\n",
      "        <a href=\"mailto:servicedesk@sdu.dk?subject=#ITOPS# SDU Web Application Firewall - 15893804995842699946\">📧 servicedesk@sdu.dk</a>\n",
      "        <a href=\"tel:+4565502990\">📞 +45 6550 2990 </a>\n",
      "    </div>\n",
      "</body>\n",
      "</html>\n",
      "Tool with name:DnoisE has the errors: {\"function\":[{\"operation\":[{\"general_errors\":[\"Invalid URI: http://edamontology.org/operation_3923.\"]},{},{}]}]}\n",
      "Tool with name:CRSP has the errors: {\"function\":[{\"operation\":[{\"general_errors\":[\"Invalid URI: http://edamontology.org/operation_3923.\"]},{},{},{},{}]}]}\n",
      "Tool with name:BNRdb has the errors: {\"function\":[{\"operation\":[{},{\"general_errors\":[\"Invalid URI: http://edamontology.org/operation_3923.\"]},{}]}]}\n",
      "Tool with name:CROPSR has the errors: {\"function\":[{\"operation\":[{},{\"general_errors\":[\"Invalid URI: http://edamontology.org/operation_3923.\"]},{}]}]}\n",
      "Tool with name:DDoS has the errors: {\"biotoolsID\":[\"A resource with this ID already exists. bio.tools IDs need to be unique\"]}\n",
      "Tool with name:IndiGen has the errors: {\"function\":[{\"operation\":[{},{\"general_errors\":[\"Invalid URI: http://edamontology.org/operation_3923.\"]},{},{},{}]}]}\n",
      "Tool with name:RCFGL has the errors: {\"biotoolsID\":[\"A resource with this ID already exists. bio.tools IDs need to be unique\"]}\n",
      "Tool with name:AugmentA has the errors: {\"biotoolsID\":[\"A resource with this ID already exists. bio.tools IDs need to be unique\"]}\n",
      "Tool with name:xcore has the errors: {\"biotoolsID\":[\"A resource with this ID already exists. bio.tools IDs need to be unique\"]}\n",
      "Tool with name:RaPID-Query has the errors: {\"biotoolsID\":[\"A resource with this ID already exists. bio.tools IDs need to be unique\"]}\n",
      "Tool with name:HKG has the errors: {\"biotoolsID\":[\"A resource with this ID already exists. bio.tools IDs need to be unique\"]}\n",
      "Tool with name:SVision has the errors: {\"function\":[{\"operation\":[{},{\"general_errors\":[\"Invalid URI: http://edamontology.org/operation_3923.\"]},{}]}]}\n",
      "Tool with name:CRISPR-detector has the errors: {\"function\":[{\"operation\":[{},{},{\"general_errors\":[\"Invalid URI: http://edamontology.org/operation_3923.\"]}]}]}\n",
      "Tool with name:GSFA has the errors: {\"biotoolsID\":[\"A resource with this ID already exists. bio.tools IDs need to be unique\"]}\n",
      "Tool with name:A2B-COVID has the errors: {\"function\":[{\"operation\":[{},{\"general_errors\":[\"Invalid URI: http://edamontology.org/operation_3923.\"]}]}]}\n",
      "Tool with name:iSeq has the errors: {\"function\":[{\"operation\":[{},{\"general_errors\":[\"Invalid URI: http://edamontology.org/operation_3923.\"]},{}]}]}\n",
      "Tool with name:FHIR has the errors: {\"biotoolsID\":[\"A resource with this ID already exists. bio.tools IDs need to be unique\"]}\n",
      "Tool with name:bibliometric has the errors: {\"biotoolsID\":[\"A resource with this ID already exists. bio.tools IDs need to be unique\"]}\n",
      "Tool with name:ViralFlow has the errors: {\"function\":[{\"operation\":[{\"general_errors\":[\"Invalid URI: http://edamontology.org/operation_3923.\"]},{},{}]}]}\n"
     ]
    }
   ],
   "source": [
    "from tool_validation import validate_tools\n",
    "valid_tools, problem_tools = validate_tools(processed_tools, token)"
   ]
  },
  {
   "cell_type": "markdown",
   "metadata": {},
   "source": [
    "**Identify preprints**\n",
    "\n",
    "7. Check if there are any newly published tools in _preprints_file_, and return only those with updated _publication_link_ and _is_preprint_ flag. Function will delete published preprints from _preprints_file_."
   ]
  },
  {
   "cell_type": "code",
   "execution_count": 20,
   "metadata": {},
   "outputs": [
    {
     "name": "stdout",
     "output_type": "stream",
     "text": [
      "Loaded 1001 preprints from C:/Users/Lenovo/bio-tools/bio-tools-curation-tooling/data/preprints.json.\n",
      "There are 13 newly published tools. 988 preprints remaining.\n"
     ]
    }
   ],
   "source": [
    "from preprints import identify_preprints\n",
    "pubs_prp = identify_preprints(rerun = True, tools = None, json_prp= preprints_file)"
   ]
  },
  {
   "cell_type": "markdown",
   "metadata": {},
   "source": [
    "8. Repeat identification for validated tools. Return only publications. Function will update _preprints_file_ with identified preprints."
   ]
  },
  {
   "cell_type": "code",
   "execution_count": 22,
   "metadata": {},
   "outputs": [
    {
     "name": "stdout",
     "output_type": "stream",
     "text": [
      "Loaded 988 preprints from C:/Users/Lenovo/bio-tools/bio-tools-curation-tooling/data/preprints.json.\n"
     ]
    },
    {
     "name": "stderr",
     "output_type": "stream",
     "text": [
      "ERROR:root:Invalid response format.\n",
      "ERROR:root:Invalid response format.\n",
      "ERROR:root:Invalid response format.\n",
      "ERROR:root:Invalid response format.\n"
     ]
    },
    {
     "name": "stdout",
     "output_type": "stream",
     "text": [
      "There are 287 published tools and 96 preprints.\n"
     ]
    }
   ],
   "source": [
    "pubs = identify_preprints(rerun = False, tools = valid_tools, json_prp= preprints_file)"
   ]
  },
  {
   "cell_type": "markdown",
   "metadata": {},
   "source": [
    "**Create .csv file**\n",
    "\n",
    "9. Generate csv file from _to_curate_ first _pubs_ and all _pubs_prp_\n",
    "\n",
    "    Returns:\n",
    "    \n",
    "    * _tools_to_add_: tools to add to database \n",
    "    * _tools_left_: tools not in _tools_to_add."
   ]
  },
  {
   "cell_type": "code",
   "execution_count": 33,
   "metadata": {},
   "outputs": [],
   "source": [
    "from utils.utils import check_date\n",
    "from utils.csv_utils import generate_csv\n",
    "\n",
    "file_date = check_date(pub2tools_log)\n",
    "tools_to_add, tools_left = generate_csv(pubs, pubs_prp, to_curate, file_date)\n",
    "\n"
   ]
  },
  {
   "cell_type": "markdown",
   "metadata": {},
   "source": [
    "**Create json files**\n",
    "\n",
    "\n",
    "9. Generate json files with tools that will not be curated"
   ]
  },
  {
   "cell_type": "code",
   "execution_count": 34,
   "metadata": {},
   "outputs": [
    {
     "name": "stdout",
     "output_type": "stream",
     "text": [
      "JSON files generated in c:\\Users\\Lenovo\\bio-tools\\bio-tools-curation-tooling\\data.\n"
     ]
    }
   ],
   "source": [
    "from utils.json_utils import generate_json\n",
    "\n",
    "generate_json(tools_left, file_date)"
   ]
  },
  {
   "cell_type": "markdown",
   "metadata": {},
   "source": [
    "10. **Add tools to curate to dev**"
   ]
  },
  {
   "cell_type": "code",
   "execution_count": null,
   "metadata": {},
   "outputs": [],
   "source": [
    "from biotools_dev import add_tools\n",
    "\n",
    "add_tools(tools_to_add, token, WRITE_TO_DB=True)\n"
   ]
  }
 ],
 "metadata": {
  "kernelspec": {
   "display_name": "Python 3",
   "language": "python",
   "name": "python3"
  },
  "language_info": {
   "codemirror_mode": {
    "name": "ipython",
    "version": 3
   },
   "file_extension": ".py",
   "mimetype": "text/x-python",
   "name": "python",
   "nbconvert_exporter": "python",
   "pygments_lexer": "ipython3",
   "version": "3.12.2"
  }
 },
 "nbformat": 4,
 "nbformat_minor": 2
}
