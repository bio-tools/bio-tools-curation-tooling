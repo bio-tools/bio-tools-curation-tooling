{
 "cells": [
  {
   "cell_type": "markdown",
   "metadata": {},
   "source": [
    "# Workflow Tutorial for bio.tools Curation Tooling\n",
    "\n",
    "This document contains detailed steps for running the workflow after running Pub2Tools for a specific month. It takes the output log from Pub2Tools, separate json files with low-priority tools and preprints as input."
   ]
  },
  {
   "cell_type": "markdown",
   "metadata": {},
   "source": [
    "> For testing purposes, please copy and use a different document as this serves only as a tutorial."
   ]
  },
  {
   "cell_type": "markdown",
   "metadata": {},
   "source": [
    "We will start by importing all dependencies into the workspace:"
   ]
  },
  {
   "cell_type": "code",
   "execution_count": null,
   "metadata": {},
   "outputs": [],
   "source": [
    "import json\n",
    "from biotools_dev import login_prod\n",
    "from tool_processing import process_tools\n",
    "from tool_validation import validate_tools\n",
    "from preprints import identify_preprints\n",
    "from utils.utils import check_date\n",
    "from utils.csv_utils import generate_csv\n",
    "from utils.json_utils import generate_json\n",
    "from biotools_dev import add_tools"
   ]
  },
  {
   "cell_type": "markdown",
   "metadata": {},
   "source": [
    "We will now start with the actual workflow. To start, some variables need to be defined. The _to_curate_ variable is defined to decrease the number of tools to be manually curated.\n",
    "\n",
    "The output from Pub2Tools can include more than 700 possible tools every month, making it hard to manually curate everything and stay up to date to novel approaches.\n",
    "\n",
    "Therefore, the workflow was designed such that only high-priority tools are added into the curation worksheet while the rest are added to a low-priority file for potential future review. The priority of the tools is already defined by Pub2Tools, which ranks them based on the likelihood of their being useful tools, a pattern observed by previous curators. Hence, only the top-ranked tools - specified by the _to_curate_ variabke and excluding preprints - are selected for immediate addition to the monthly worksheet.   \n",
    "\n",
    "\n",
    "1. **Define run settings:**\n",
    "    * _to_curate_ (int || 'all'): number of published tools to be added to the database."
   ]
  },
  {
   "cell_type": "code",
   "execution_count": null,
   "metadata": {},
   "outputs": [],
   "source": [
    "to_curate = 100"
   ]
  },
  {
   "cell_type": "markdown",
   "metadata": {},
   "source": [
    "File paths for different files must be defined. These files include the output from Pub2Tools and json files or zip files with all preprints and low-priority tools. \n",
    "\n",
    "There should be a low-priority tool file for each month. For a new run, this file will be created.\n",
    "\n",
    "2. **Define file paths:**\n",
    "\n",
    "    * _json_file_ (str): path for json file with Pub2Tools output\n",
    "    * _pub2tools_log_ (str): path to existing output log file from Pub2Tools\n",
    "    * _preprints_file_ (str): path to existing json file with all of the preprints\n",
    "    * _low_priority_ (str): path to zip file with low priority tools"
   ]
  },
  {
   "cell_type": "code",
   "execution_count": null,
   "metadata": {},
   "outputs": [],
   "source": [
    "json_file = \"to_biotools_sep22.json\"\n",
    "pub2tools_log = \"pub2tools.log\"\n",
    "preprints_file = \"data/preprints.json\"\n",
    "low_priority = \"data/low_tools.zip\""
   ]
  },
  {
   "cell_type": "markdown",
   "metadata": {},
   "source": [
    "Credentials are needed for the development version of the server to be able to upload the tools to dev.\n",
    "\n",
    "Make sure not to submit any credentials to the repository when making changes to the workflow!\n",
    "\n",
    "> Always create a copy of this file and do not make changes to the original one.\n",
    "\n",
    "\n",
    "3. **Define username and password.**"
   ]
  },
  {
   "cell_type": "code",
   "execution_count": null,
   "metadata": {},
   "outputs": [],
   "source": [
    "username = ''\n",
    "password = ''"
   ]
  },
  {
   "cell_type": "markdown",
   "metadata": {},
   "source": [
    "4. **Authentication.**"
   ]
  },
  {
   "cell_type": "code",
   "execution_count": null,
   "metadata": {},
   "outputs": [],
   "source": [
    "from biotools_dev import login_prod\n",
    "\n",
    "token = login_prod(username, password)"
   ]
  },
  {
   "cell_type": "markdown",
   "metadata": {},
   "source": [
    "As mentioned before, Pub2Tools returns tools with a confidence flag, and we only consider the ones where this flag is set to \"high\". \n",
    "\n",
    "5. **Read Pub2Tools output** and get tools with **high confidence** score from json file."
   ]
  },
  {
   "cell_type": "code",
   "execution_count": null,
   "metadata": {},
   "outputs": [],
   "source": [
    "import json\n",
    "from tool_processing import process_tools\n",
    "\n",
    "with open(json_file,encoding=\"utf8\") as jf:\n",
    "    data = json.load(jf)\n",
    "    tools = data['list']\n",
    "\n",
    "processed_tools = process_tools(tools)"
   ]
  },
  {
   "cell_type": "markdown",
   "metadata": {},
   "source": [
    "**Tool validation**\n",
    "\n",
    "Tool validation goes through all the tools in the output from Pub2Tools and checks if there are errors using the bio.tools API.\n",
    "\n",
    "6. **Validate tools** and separate them into valid and problem tools."
   ]
  },
  {
   "cell_type": "code",
   "execution_count": null,
   "metadata": {},
   "outputs": [],
   "source": [
    "from tool_validation import validate_tools\n",
    "valid_tools, problem_tools = validate_tools(processed_tools, token)"
   ]
  },
  {
   "cell_type": "markdown",
   "metadata": {},
   "source": [
    "**Identify preprints**\n",
    "\n",
    "This section comprises two steps: first, we identify newly published preprints from the global preprints file. Then, we go through the list of valid tools and identify the preprints in that one and add them to the existing preprints file. \n",
    "\n",
    "7. Check if there are any newly published tools in _preprints_file_, and return only those with updated _publication_link_ and _is_preprint_ flag. Function will delete published preprints from _preprints_file_.\n",
    "\n",
    "Here, we set _rerun_ to 'true' because we are running the function on preprints that were already identified previously."
   ]
  },
  {
   "cell_type": "code",
   "execution_count": null,
   "metadata": {},
   "outputs": [],
   "source": [
    "from preprints import identify_preprints\n",
    "pubs_prp = identify_preprints(rerun = True, tools = None, json_prp = preprints_file)"
   ]
  },
  {
   "cell_type": "markdown",
   "metadata": {},
   "source": [
    "8. Repeat identification for validated tools. Return only publications. Function will update _preprints_file_ with identified preprints in _valid_tools_.\n",
    "\n",
    "In this case, _rerun_ is set to 'false' since we are running the function with tools from a new month."
   ]
  },
  {
   "cell_type": "code",
   "execution_count": null,
   "metadata": {},
   "outputs": [],
   "source": [
    "pubs = identify_preprints(rerun = False, tools = valid_tools, json_prp = preprints_file)"
   ]
  },
  {
   "cell_type": "markdown",
   "metadata": {},
   "source": [
    "**Create .csv file**\n",
    "\n",
    "Once we have the valid tools and the preprints, we can combine them in _tools_to_add_ and add these to a CSV file with the valid tools at the top and the newly published preprints at the bottom.\n",
    "\n",
    "The created file has 4 different columns: \n",
    "\n",
    "1. tool link in the development database  \n",
    "2. tool name   \n",
    "3. homepage   \n",
    "4. publication link.  \n",
    " \n",
    "The tools that are not included in this file (_tools_left_) will be added to a json file, as previously mentioned, and zipped with the other low priority files from previous months. \n",
    "\n",
    "9. Generate csv file from _to_curate_ first _pubs_ and all _pubs_prp_\n",
    "\n",
    "    Returns:\n",
    "    \n",
    "    * _tools_to_add_: tools to add to database \n",
    "    * _tools_left_: tools not in _tools_to_add."
   ]
  },
  {
   "cell_type": "code",
   "execution_count": null,
   "metadata": {},
   "outputs": [],
   "source": [
    "from utils.utils import check_date\n",
    "from utils.csv_utils import generate_csv\n",
    "\n",
    "file_date = check_date(pub2tools_log)\n",
    "tools_to_add, tools_left = generate_csv(pubs, pubs_prp, to_curate, file_date)\n",
    "\n"
   ]
  },
  {
   "cell_type": "markdown",
   "metadata": {},
   "source": [
    "**Create json files**\n",
    "\n",
    "9. Generate json files with tools that will not be curated"
   ]
  },
  {
   "cell_type": "code",
   "execution_count": null,
   "metadata": {},
   "outputs": [],
   "source": [
    "from utils.json_utils import generate_json\n",
    "\n",
    "generate_json(tools_left, file_date)"
   ]
  },
  {
   "cell_type": "markdown",
   "metadata": {},
   "source": [
    "**Add tools to dev**\n",
    "\n",
    "10. Add tools to add to the development version of bio.tools."
   ]
  },
  {
   "cell_type": "code",
   "execution_count": null,
   "metadata": {},
   "outputs": [],
   "source": [
    "from biotools_dev import add_tools\n",
    "\n",
    "add_tools(tools_to_add, token, WRITE_TO_DB = True)\n"
   ]
  }
 ],
 "metadata": {
  "kernelspec": {
   "display_name": "Python 3",
   "language": "python",
   "name": "python3"
  },
  "language_info": {
   "codemirror_mode": {
    "name": "ipython",
    "version": 3
   },
   "file_extension": ".py",
   "mimetype": "text/x-python",
   "name": "python",
   "nbconvert_exporter": "python",
   "pygments_lexer": "ipython3",
   "version": "3.11.5"
  }
 },
 "nbformat": 4,
 "nbformat_minor": 2
}
